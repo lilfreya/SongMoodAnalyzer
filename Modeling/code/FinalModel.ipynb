{
 "cells": [
  {
   "cell_type": "markdown",
   "metadata": {},
   "source": [
    "## Using Multinomial Model to classify the songs"
   ]
  },
  {
   "cell_type": "code",
   "execution_count": 11,
   "metadata": {},
   "outputs": [
    {
     "data": {
      "text/html": [
       "<div>\n",
       "<style scoped>\n",
       "    .dataframe tbody tr th:only-of-type {\n",
       "        vertical-align: middle;\n",
       "    }\n",
       "\n",
       "    .dataframe tbody tr th {\n",
       "        vertical-align: top;\n",
       "    }\n",
       "\n",
       "    .dataframe thead th {\n",
       "        text-align: right;\n",
       "    }\n",
       "</style>\n",
       "<table border=\"1\" class=\"dataframe\">\n",
       "  <thead>\n",
       "    <tr style=\"text-align: right;\">\n",
       "      <th></th>\n",
       "      <th>file</th>\n",
       "      <th>artist</th>\n",
       "      <th>title</th>\n",
       "      <th>lyrics</th>\n",
       "      <th>genre</th>\n",
       "      <th>mood</th>\n",
       "      <th>year</th>\n",
       "    </tr>\n",
       "  </thead>\n",
       "  <tbody>\n",
       "    <tr>\n",
       "      <th>995</th>\n",
       "      <td>TRBIGRY128F42597B3.h5</td>\n",
       "      <td>Sade</td>\n",
       "      <td>All About Our Love</td>\n",
       "      <td>Its all about our love\\nSo shall it be forever...</td>\n",
       "      <td>R&amp;B</td>\n",
       "      <td>sad</td>\n",
       "      <td>2000</td>\n",
       "    </tr>\n",
       "    <tr>\n",
       "      <th>996</th>\n",
       "      <td>TRBIIEU128F9307C88.h5</td>\n",
       "      <td>New Found Glory</td>\n",
       "      <td>Don't Let Her Pull You Down</td>\n",
       "      <td>It's time that I rain on your parade\\nWatch as...</td>\n",
       "      <td>Rock</td>\n",
       "      <td>happy</td>\n",
       "      <td>2009</td>\n",
       "    </tr>\n",
       "    <tr>\n",
       "      <th>997</th>\n",
       "      <td>TRBIIJY12903CE4755.h5</td>\n",
       "      <td>Mindy McCready</td>\n",
       "      <td>Ten Thousand Angels</td>\n",
       "      <td>Speakin of the devil\\nLook who just walked in\\...</td>\n",
       "      <td>Country</td>\n",
       "      <td>happy</td>\n",
       "      <td>1996</td>\n",
       "    </tr>\n",
       "    <tr>\n",
       "      <th>998</th>\n",
       "      <td>TRBIIOT128F423C594.h5</td>\n",
       "      <td>Joy Division</td>\n",
       "      <td>Leaders Of Men</td>\n",
       "      <td>Born from some mother's womb\\nJust like any ot...</td>\n",
       "      <td>Rock</td>\n",
       "      <td>sad</td>\n",
       "      <td>1978</td>\n",
       "    </tr>\n",
       "    <tr>\n",
       "      <th>999</th>\n",
       "      <td>TRBIJYB128F14AE326.h5</td>\n",
       "      <td>Seventh Day Slumber</td>\n",
       "      <td>Shattered Life</td>\n",
       "      <td>This wanting more from me is tearing me, it's ...</td>\n",
       "      <td>Rock</td>\n",
       "      <td>sad</td>\n",
       "      <td>2005</td>\n",
       "    </tr>\n",
       "  </tbody>\n",
       "</table>\n",
       "</div>"
      ],
      "text/plain": [
       "                      file               artist                        title  \\\n",
       "995  TRBIGRY128F42597B3.h5                 Sade           All About Our Love   \n",
       "996  TRBIIEU128F9307C88.h5      New Found Glory  Don't Let Her Pull You Down   \n",
       "997  TRBIIJY12903CE4755.h5       Mindy McCready          Ten Thousand Angels   \n",
       "998  TRBIIOT128F423C594.h5         Joy Division               Leaders Of Men   \n",
       "999  TRBIJYB128F14AE326.h5  Seventh Day Slumber               Shattered Life   \n",
       "\n",
       "                                                lyrics    genre   mood  year  \n",
       "995  Its all about our love\\nSo shall it be forever...      R&B    sad  2000  \n",
       "996  It's time that I rain on your parade\\nWatch as...     Rock  happy  2009  \n",
       "997  Speakin of the devil\\nLook who just walked in\\...  Country  happy  1996  \n",
       "998  Born from some mother's womb\\nJust like any ot...     Rock    sad  1978  \n",
       "999  This wanting more from me is tearing me, it's ...     Rock    sad  2005  "
      ]
     },
     "execution_count": 11,
     "metadata": {},
     "output_type": "execute_result"
    }
   ],
   "source": [
    "import pandas as pd\n",
    "\n",
    "df_train = pd.read_csv('../dataset/train_lyrics_1000.csv')\n",
    "df_test = pd.read_csv('../dataset/valid_lyrics_200.csv')\n",
    "\n",
    "df_train.tail()"
   ]
  },
  {
   "cell_type": "code",
   "execution_count": 12,
   "metadata": {},
   "outputs": [],
   "source": [
    "X_train = df_train['lyrics']\n",
    "y_train = df_train['mood']\n",
    "\n",
    "X_test = df_test['lyrics']\n",
    "y_test = df_test['mood']"
   ]
  },
  {
   "cell_type": "markdown",
   "metadata": {},
   "source": [
    "## Vectorizing the data"
   ]
  },
  {
   "cell_type": "code",
   "execution_count": 13,
   "metadata": {},
   "outputs": [],
   "source": [
    "from __future__ import absolute_import\n",
    "from __future__ import division\n",
    "from __future__ import print_function\n",
    "import numpy as np\n",
    "from sklearn.feature_extraction.text import TfidfVectorizer\n",
    "from sklearn.feature_selection import SelectKBest\n",
    "from sklearn.feature_selection import f_classif\n",
    "\n",
    "# Vectorization parameters\n",
    "\n",
    "# Range (inclusive) of n-gram sizes for tokenizing text.\n",
    "NGRAM_RANGE = (1, 2)\n",
    "\n",
    "# Limit on the number of features. We use the top 20K features.\n",
    "TOP_K = 20000\n",
    "\n",
    "# Whether text should be split into word or character n-grams.\n",
    "# One of 'word', 'char'.\n",
    "TOKEN_MODE = 'word'\n",
    "\n",
    "# Minimum document/corpus frequency below which a token will be discarded.\n",
    "MIN_DOCUMENT_FREQUENCY = 2\n",
    "\n",
    "# Limit on the length of text sequences. Sequences longer than this\n",
    "# will be truncated.\n",
    "MAX_SEQUENCE_LENGTH = 500\n",
    "\n",
    "\n",
    "def ngram_vectorize(train_texts, train_labels, val_texts):\n",
    "   \"\"\"Vectorizes texts as ngram vectors.\n",
    "\n",
    "   1 text = 1 tf-idf vector the length of vocabulary of uni-grams + bi-grams.\n",
    "\n",
    "   # Arguments\n",
    "       train_texts: list, training text strings.\n",
    "       train_labels: np.ndarray, training labels.\n",
    "       val_texts: list, validation text strings.\n",
    "\n",
    "   # Returns\n",
    "       x_train, x_val: vectorized training and validation texts\n",
    "   \"\"\"\n",
    "   # Create keyword arguments to pass to the 'tf-idf' vectorizer.\n",
    "   kwargs = {\n",
    "           'ngram_range': NGRAM_RANGE,  # Use 1-grams + 2-grams.\n",
    "           'dtype': 'int32',\n",
    "           'strip_accents': 'unicode',\n",
    "           'decode_error': 'replace',\n",
    "           'analyzer': TOKEN_MODE,  # Split text into word tokens.\n",
    "            'stop_words': 'english',\n",
    "            'lowercase': True,\n",
    "           'min_df': MIN_DOCUMENT_FREQUENCY,\n",
    "   }\n",
    "   vectorizer = TfidfVectorizer(**kwargs)\n",
    "\n",
    "   # Learn vocabulary from training texts and vectorize training texts.\n",
    "   x_train = vectorizer.fit_transform(train_texts)\n",
    "\n",
    "   # Vectorize validation texts.\n",
    "   x_val = vectorizer.transform(val_texts)\n",
    "\n",
    "   # Select top 'k' of the vectorized features.\n",
    "   selector = SelectKBest(f_classif, k=min(TOP_K, x_train.shape[1]))\n",
    "   selector.fit(x_train, train_labels)\n",
    "   x_train = selector.transform(x_train)\n",
    "   x_val = selector.transform(x_val)\n",
    "\n",
    "   x_train = x_train.astype('float32')\n",
    "   x_val = x_val.astype('float32')\n",
    "   return x_train, x_val"
   ]
  },
  {
   "cell_type": "code",
   "execution_count": 20,
   "metadata": {},
   "outputs": [
    {
     "name": "stderr",
     "output_type": "stream",
     "text": [
      "C:\\Users\\Nidhi\\Anaconda3\\lib\\site-packages\\sklearn\\feature_extraction\\text.py:1567: UserWarning: Only (<class 'numpy.float64'>, <class 'numpy.float32'>, <class 'numpy.float16'>) 'dtype' should be used. int32 'dtype' will be converted to np.float64.\n",
      "  UserWarning)\n"
     ]
    }
   ],
   "source": [
    "train_vect, test_vect = ngram_vectorize(X_train, y_train, X_test)"
   ]
  },
  {
   "cell_type": "markdown",
   "metadata": {},
   "source": [
    "## Using the model to see the predicted result"
   ]
  },
  {
   "cell_type": "code",
   "execution_count": 21,
   "metadata": {},
   "outputs": [
    {
     "data": {
      "text/html": [
       "<div>\n",
       "<style scoped>\n",
       "    .dataframe tbody tr th:only-of-type {\n",
       "        vertical-align: middle;\n",
       "    }\n",
       "\n",
       "    .dataframe tbody tr th {\n",
       "        vertical-align: top;\n",
       "    }\n",
       "\n",
       "    .dataframe thead th {\n",
       "        text-align: right;\n",
       "    }\n",
       "</style>\n",
       "<table border=\"1\" class=\"dataframe\">\n",
       "  <thead>\n",
       "    <tr style=\"text-align: right;\">\n",
       "      <th></th>\n",
       "      <th>actual</th>\n",
       "      <th>predicted</th>\n",
       "    </tr>\n",
       "  </thead>\n",
       "  <tbody>\n",
       "    <tr>\n",
       "      <th>0</th>\n",
       "      <td>happy</td>\n",
       "      <td>happy</td>\n",
       "    </tr>\n",
       "    <tr>\n",
       "      <th>1</th>\n",
       "      <td>sad</td>\n",
       "      <td>sad</td>\n",
       "    </tr>\n",
       "    <tr>\n",
       "      <th>2</th>\n",
       "      <td>happy</td>\n",
       "      <td>happy</td>\n",
       "    </tr>\n",
       "    <tr>\n",
       "      <th>3</th>\n",
       "      <td>sad</td>\n",
       "      <td>sad</td>\n",
       "    </tr>\n",
       "    <tr>\n",
       "      <th>4</th>\n",
       "      <td>sad</td>\n",
       "      <td>sad</td>\n",
       "    </tr>\n",
       "  </tbody>\n",
       "</table>\n",
       "</div>"
      ],
      "text/plain": [
       "  actual predicted\n",
       "0  happy     happy\n",
       "1    sad       sad\n",
       "2  happy     happy\n",
       "3    sad       sad\n",
       "4    sad       sad"
      ]
     },
     "execution_count": 21,
     "metadata": {},
     "output_type": "execute_result"
    }
   ],
   "source": [
    "from sklearn.naive_bayes import MultinomialNB\n",
    "from sklearn.model_selection import GridSearchCV\n",
    "\n",
    "clf = MultinomialNB(alpha=0.01,class_prior=None, fit_prior=False)\n",
    "clf.fit(train_vect,y_train)\n",
    "predicted_values = clf.predict(test_vect)\n",
    "actual_values = y_test\n",
    "df = pd.DataFrame()\n",
    "df['actual'] = actual_values\n",
    "df['predicted'] = predicted_values\n",
    "df.head()\n"
   ]
  },
  {
   "cell_type": "markdown",
   "metadata": {},
   "source": [
    "## Plotting the confusion matrix"
   ]
  },
  {
   "cell_type": "code",
   "execution_count": 22,
   "metadata": {},
   "outputs": [],
   "source": [
    "import matplotlib as mpl\n",
    "import numpy as np\n",
    "import seaborn as sns\n",
    "import matplotlib.pyplot as plt\n",
    "from sklearn import metrics\n",
    "%matplotlib inline\n",
    "\n",
    "def plot_cm(X, y, clf, title, dest):\n",
    "\n",
    "    cm = metrics.confusion_matrix(y, clf.predict(X))\n",
    "\n",
    "    np.set_printoptions(suppress=True)\n",
    "    mpl.rc(\"figure\", figsize=(4, 2))\n",
    "\n",
    "    hm = sns.heatmap(cm, \n",
    "            cbar=False,\n",
    "            annot=True, \n",
    "            square=True,\n",
    "            fmt='d',\n",
    "            yticklabels=['happy','sad'],\n",
    "            xticklabels=['happy','sad'],\n",
    "            cmap='Blues'\n",
    "            )\n",
    "    plt.title(title)\n",
    "    plt.ylabel('actual class')\n",
    "    plt.xlabel('predicted class')\n",
    "    plt.tight_layout()\n",
    "    plt.savefig(dest, dpi=300)\n",
    "    plt.show()"
   ]
  },
  {
   "cell_type": "code",
   "execution_count": 23,
   "metadata": {},
   "outputs": [
    {
     "data": {
      "image/png": "[encoded data removed]",
      "text/plain": [
       "<Figure size 288x144 with 1 Axes>"
      ]
     },
     "metadata": {
      "needs_background": "light"
     },
     "output_type": "display_data"
    }
   ],
   "source": [
    "plot_cm(train_vect, y_train, clf, 'Training - TfidfVectorizer Porter', '../dataset/train.png')"
   ]
  },
  {
   "cell_type": "code",
   "execution_count": 24,
   "metadata": {},
   "outputs": [
    {
     "data": {
      "image/png": "[encoded data removed]",
      "text/plain": [
       "<Figure size 288x144 with 1 Axes>"
      ]
     },
     "metadata": {
      "needs_background": "light"
     },
     "output_type": "display_data"
    }
   ],
   "source": [
    "plot_cm(test_vect, y_test, clf, 'Testing - TfidfVectorizer Porter', '../dataset/test.png')"
   ]
  },
  {
   "cell_type": "markdown",
   "metadata": {},
   "source": [
    "## Calculating the Accuracy, Precision, Recall and F-1 score"
   ]
  },
  {
   "cell_type": "code",
   "execution_count": 25,
   "metadata": {},
   "outputs": [],
   "source": [
    "from sklearn import metrics\n",
    "acc_scorer = metrics.make_scorer(metrics.accuracy_score, greater_is_better=True)\n",
    "pre_scorer = metrics.make_scorer(metrics.precision_score, greater_is_better=True, pos_label= 'happy')\n",
    "rec_scorer = metrics.make_scorer(metrics.recall_score, greater_is_better=True, pos_label= 'happy')\n",
    "f1_scorer = metrics.make_scorer(metrics.f1_score, greater_is_better=True, pos_label= 'happy')\n",
    "auc_scorer = metrics.make_scorer(metrics.roc_auc_score, greater_is_better=True)"
   ]
  },
  {
   "cell_type": "code",
   "execution_count": 26,
   "metadata": {},
   "outputs": [
    {
     "name": "stdout",
     "output_type": "stream",
     "text": [
      "Accuracy for train is:  99.7\n",
      "Precision for train  is:  99.33184855233853\n",
      "Recall for train is:  100.0\n",
      "F1 score for train is:  99.66480446927373\n",
      "________________________________________________________________________\n",
      "\n",
      "Accuracy for test is:  70.0\n",
      "Precision for test is:  75.28089887640449\n",
      "Recall for test is:  63.8095238095238\n",
      "F1 score for test is:  69.0721649484536\n"
     ]
    }
   ],
   "source": [
    "a = acc_scorer(estimator=clf, X=train_vect, y_true=y_train)\n",
    "p = pre_scorer(estimator=clf, X=train_vect, y_true=y_train)\n",
    "r = rec_scorer(estimator=clf, X=train_vect, y_true=y_train)\n",
    "f = f1_scorer(estimator=clf, X=train_vect, y_true=y_train)\n",
    "#roc = auc_scorer(estimator=clf, X=train_vect, y_true=y_train)\n",
    "\n",
    "print('Accuracy for train is: ', a*100)\n",
    "print('Precision for train  is: ', p*100)\n",
    "print('Recall for train is: ', r*100)\n",
    "print('F1 score for train is: ', f*100)\n",
    "\n",
    "\n",
    "a1 = acc_scorer(estimator=clf, X=test_vect, y_true=y_test)\n",
    "p1 = pre_scorer(estimator=clf, X=test_vect, y_true=y_test)\n",
    "r1 = rec_scorer(estimator=clf, X=test_vect, y_true=y_test)\n",
    "f1 = f1_scorer(estimator=clf, X=test_vect, y_true=y_test)\n",
    "print('________________________________________________________________________\\n')\n",
    "print('Accuracy for test is: ', a1*100)\n",
    "print('Precision for test is: ', p1*100)\n",
    "print('Recall for test is: ', r1*100)\n",
    "print('F1 score for test is: ', f1*100)"
   ]
  },
  {
   "cell_type": "markdown",
   "metadata": {},
   "source": [
    "## Pickling the model"
   ]
  },
  {
   "cell_type": "code",
   "execution_count": 31,
   "metadata": {},
   "outputs": [
    {
     "name": "stdout",
     "output_type": "stream",
     "text": [
      "<_io.BufferedWriter name='Finalmodel.pkl'>\n"
     ]
    }
   ],
   "source": [
    "import pickle\n",
    "\n",
    "pickle_out = open('Finalmodel.pkl', 'wb')\n",
    "pickle.dump(clf, pickle_out)\n",
    "print(pickle_out)\n",
    "pickle_out.close()"
   ]
  },
  {
   "cell_type": "code",
   "execution_count": null,
   "metadata": {},
   "outputs": [],
   "source": []
  },
  {
   "cell_type": "code",
   "execution_count": 28,
   "metadata": {},
   "outputs": [],
   "source": [
    "import pickle\n",
    "import pandas as pd\n",
    "pickle_in = open('Finalmodel.pkl', 'rb')\n",
    "Mymodel = pickle.load(pickle_in)"
   ]
  },
  {
   "cell_type": "markdown",
   "metadata": {},
   "source": [
    "## Function to make predictions from the pickled model"
   ]
  },
  {
   "cell_type": "code",
   "execution_count": 29,
   "metadata": {},
   "outputs": [],
   "source": [
    "def model_predict(text):\n",
    "    test_text = pd.Series(text)\n",
    "    train_x,test_x=ngram_vectorize(X_train, y_train, test_text)\n",
    "    return Mymodel.predict(test_x) "
   ]
  },
  {
   "cell_type": "markdown",
   "metadata": {},
   "source": [
    "## Test example"
   ]
  },
  {
   "cell_type": "code",
   "execution_count": 30,
   "metadata": {},
   "outputs": [
    {
     "name": "stderr",
     "output_type": "stream",
     "text": [
      "C:\\Users\\Nidhi\\Anaconda3\\lib\\site-packages\\sklearn\\feature_extraction\\text.py:1567: UserWarning: Only (<class 'numpy.float64'>, <class 'numpy.float32'>, <class 'numpy.float16'>) 'dtype' should be used. int32 'dtype' will be converted to np.float64.\n",
      "  UserWarning)\n"
     ]
    },
    {
     "data": {
      "text/plain": [
       "array(['sad'], dtype='<U5')"
      ]
     },
     "execution_count": 30,
     "metadata": {},
     "output_type": "execute_result"
    }
   ],
   "source": [
    "model_predict(\"I can't forget my love. I am sad everyday\")"
   ]
  },
  {
   "cell_type": "code",
   "execution_count": null,
   "metadata": {},
   "outputs": [],
   "source": []
  }
 ],
 "metadata": {
  "kernelspec": {
   "display_name": "Python 3",
   "language": "python",
   "name": "python3"
  },
  "language_info": {
   "codemirror_mode": {
    "name": "ipython",
    "version": 3
   },
   "file_extension": ".py",
   "mimetype": "text/x-python",
   "name": "python",
   "nbconvert_exporter": "python",
   "pygments_lexer": "ipython3",
   "version": "3.7.1"
  }
 },
 "nbformat": 4,
 "nbformat_minor": 2
}
